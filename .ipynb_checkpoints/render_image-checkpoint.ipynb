{
 "cells": [
  {
   "cell_type": "code",
   "execution_count": null,
   "id": "bc2d5ec2-6c5e-4df3-8b7f-2205e41b0c96",
   "metadata": {},
   "outputs": [],
   "source": [
    "from torchvision.transforms import Compose, ToTensor, Normalize, Resize\n",
    "from PIL import Image"
   ]
  },
  {
   "cell_type": "code",
   "execution_count": null,
   "id": "a51201c5-729c-467d-9687-7fff237ab631",
   "metadata": {},
   "outputs": [],
   "source": [
    "transform = Compose([\n",
    "    Resize((256, 256)),  # Assuming this is the size used during training\n",
    "    ToTensor(),\n",
    "    Normalize(mean=[0.485, 0.456, 0.406], std=[0.229, 0.224, 0.225])\n",
    "])\n",
    "\n",
    "img_path = 'training-data/input-data/0a0c3a6d07.jpg\n",
    "image = Image.open(img_path).convert('RGB')\n",
    "input_image = transform(image).unsqueeze(0)  # Add batch dimension\n",
    "input_image = input_image.to(device)"
   ]
  }
 ],
 "metadata": {
  "kernelspec": {
   "display_name": "Python 3 (ipykernel)",
   "language": "python",
   "name": "python3"
  },
  "language_info": {
   "codemirror_mode": {
    "name": "ipython",
    "version": 3
   },
   "file_extension": ".py",
   "mimetype": "text/x-python",
   "name": "python",
   "nbconvert_exporter": "python",
   "pygments_lexer": "ipython3",
   "version": "3.10.12"
  }
 },
 "nbformat": 4,
 "nbformat_minor": 5
}
